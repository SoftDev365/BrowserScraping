{
 "cells": [
  {
   "cell_type": "markdown",
   "metadata": {},
   "source": [
    "# Import Library"
   ]
  },
  {
   "cell_type": "code",
   "execution_count": 1,
   "metadata": {
    "ExecuteTime": {
     "end_time": "2021-05-08T06:15:15.856407Z",
     "start_time": "2021-05-08T06:15:15.224130Z"
    }
   },
   "outputs": [],
   "source": [
    "import sys\n",
    "import os\n",
    "try:\n",
    "    from mechanize import Browser\n",
    "except ImportError:\n",
    "    !{sys.executable} - m pip install mechanize\n",
    "    from mechanize import Browser\n",
    "\n",
    "try:\n",
    "    from bs4 import BeautifulSoup\n",
    "except ImportError:\n",
    "    !{sys.executable} - m pip install bs4\n",
    "    from bs4 import BeautifulSoup\n",
    "\n",
    "try:\n",
    "    import time\n",
    "except ImportError:\n",
    "    !{sys.executable} - m pip install time\n",
    "    import time\n",
    "\n",
    "try:\n",
    "    import pandas as pd\n",
    "except ImportError:\n",
    "    !{sys.executable} - m pip install pandas\n",
    "    import pandas as pd"
   ]
  },
  {
   "cell_type": "markdown",
   "metadata": {},
   "source": [
    "# Login to Timeform"
   ]
  },
  {
   "cell_type": "code",
   "execution_count": 2,
   "metadata": {
    "ExecuteTime": {
     "end_time": "2021-05-08T06:15:19.203577Z",
     "start_time": "2021-05-08T06:15:15.869240Z"
    }
   },
   "outputs": [
    {
     "data": {
      "text/plain": [
       "'Login...'"
      ]
     },
     "metadata": {},
     "output_type": "display_data"
    },
    {
     "data": {
      "text/plain": [
       "'Login complete. 63.71378540992737 seconds'"
      ]
     },
     "metadata": {},
     "output_type": "display_data"
    }
   ],
   "source": [
    "tic = time.perf_counter()\n",
    "started_time = time.time()\n",
    "display(\"Login...\")\n",
    "browser = Browser()\n",
    "browser.set_handle_robots(False)\n",
    "browser.addheaders = [('User-agent', 'Mozilla/5.0 (X11; U; Linux i686; en-US; rv:1.9.0.1) Gecko/2008071615 Fedora/3.0.1-1.fc9 Firefox/3.0.1')]\n",
    "browser.open('https://www.timeform.com/horse-racing/account/sign-in?returnUrl=%2Fhorse-racing%2F')\n",
    "browser.select_form(nr=0)\n",
    "browser[\"EmailAddress\"] = 'routus2000@gmail.com'\n",
    "browser[\"Password\"] = 'number77A'\n",
    "logged = browser.submit()\n",
    "response = logged.read()\n",
    "\n",
    "# you can delete this section:\n",
    "elapsed_time = time.time() - started_time\n",
    "display(\"Login complete. \" + str(elapsed_time) + ' seconds')\n",
    "soup = BeautifulSoup(response, \"lxml\")\n",
    "html = soup"
   ]
  },
  {
   "cell_type": "markdown",
   "metadata": {},
   "source": [
    "# Get Urls daily"
   ]
  },
  {
   "cell_type": "code",
   "execution_count": 3,
   "metadata": {},
   "outputs": [
    {
     "data": {
      "text/plain": [
       "'Search URLs - {date}.'"
      ]
     },
     "metadata": {},
     "output_type": "display_data"
    },
    {
     "name": "stdout",
     "output_type": "stream",
     "text": [
      "/horse-racing/result/stratford-on-avon/2022-04-10/1350/48/1\n",
      "/horse-racing/result/stratford-on-avon/2022-04-10/1423/48/2\n",
      "/horse-racing/result/stratford-on-avon/2022-04-10/1455/48/3\n",
      "/horse-racing/result/stratford-on-avon/2022-04-10/1530/48/4\n",
      "/horse-racing/result/stratford-on-avon/2022-04-10/1605/48/5\n",
      "/horse-racing/result/stratford-on-avon/2022-04-10/1640/48/6\n",
      "/horse-racing/result/stratford-on-avon/2022-04-10/1710/48/7\n",
      "/horse-racing/result/wincanton/2022-04-10/1300/56/1\n",
      "/horse-racing/result/wincanton/2022-04-10/1330/56/2\n",
      "/horse-racing/result/wincanton/2022-04-10/1405/56/3\n",
      "/horse-racing/result/wincanton/2022-04-10/1440/56/4\n",
      "/horse-racing/result/wincanton/2022-04-10/1515/56/5\n",
      "/horse-racing/result/wincanton/2022-04-10/1550/56/6\n",
      "/horse-racing/result/curragh/2022-04-10/1320/204/1\n",
      "/horse-racing/result/curragh/2022-04-10/1355/204/2\n",
      "/horse-racing/result/curragh/2022-04-10/1430/204/3\n",
      "/horse-racing/result/curragh/2022-04-10/1505/204/4\n",
      "/horse-racing/result/curragh/2022-04-10/1540/204/5\n",
      "/horse-racing/result/curragh/2022-04-10/1612/204/6\n",
      "/horse-racing/result/curragh/2022-04-10/1645/204/7\n",
      "/horse-racing/result/curragh/2022-04-10/1720/204/8\n",
      "/horse-racing/result/tramore/2022-04-10/1415/228/1\n",
      "/horse-racing/result/tramore/2022-04-10/1447/228/2\n",
      "/horse-racing/result/tramore/2022-04-10/1522/228/3\n",
      "/horse-racing/result/tramore/2022-04-10/1557/228/4\n",
      "/horse-racing/result/tramore/2022-04-10/1630/228/5\n",
      "/horse-racing/result/tramore/2022-04-10/1700/228/6\n",
      "/horse-racing/result/tramore/2022-04-10/1730/228/7\n"
     ]
    },
    {
     "data": {
      "text/plain": [
       "'Searching complete.'"
      ]
     },
     "metadata": {},
     "output_type": "display_data"
    }
   ],
   "source": [
    "day=10\n",
    "month = 4\n",
    "year = 2022\n",
    "\n",
    "baseDateStr = f\"{year}-{month:02d}-{day:02d}\"\n",
    "raceUrls = []\n",
    "display(\"Search URLs - {date}.\")\n",
    "html = browser.open('https://www.timeform.com/horse-racing/results/' + baseDateStr).read()\n",
    "soup = BeautifulSoup(html, \"lxml\")\n",
    "for data in soup.find_all('a', class_='results-title'):\n",
    "    print(data.get('href'))  # for getting link\n",
    "    raceUrls.append(data.get('href'))\n",
    "\n",
    "display(\"Searching complete.\")"
   ]
  },
  {
   "cell_type": "markdown",
   "metadata": {},
   "source": [
    "### Scrape results page for each race"
   ]
  },
  {
   "cell_type": "code",
   "execution_count": 4,
   "metadata": {
    "ExecuteTime": {
     "end_time": "2021-05-08T06:15:23.143227Z",
     "start_time": "2021-05-08T06:15:19.206601Z"
    }
   },
   "outputs": [
    {
     "data": {
      "text/plain": [
       "'Getting Race Result Data from Urls.'"
      ]
     },
     "metadata": {},
     "output_type": "display_data"
    },
    {
     "data": {
      "text/plain": [
       "'Scraping Data from /horse-racing/result/stratford-on-avon/2022-04-10/1350/48/1...'"
      ]
     },
     "metadata": {},
     "output_type": "display_data"
    },
    {
     "data": {
      "text/plain": [
       "'Complete Scraping Data from /horse-racing/result/stratford-on-avon/2022-04-10/1350/48/1.'"
      ]
     },
     "metadata": {},
     "output_type": "display_data"
    },
    {
     "data": {
      "text/plain": [
       "'Scraping Data from /horse-racing/result/stratford-on-avon/2022-04-10/1423/48/2...'"
      ]
     },
     "metadata": {},
     "output_type": "display_data"
    },
    {
     "data": {
      "text/plain": [
       "'Complete Scraping Data from /horse-racing/result/stratford-on-avon/2022-04-10/1423/48/2.'"
      ]
     },
     "metadata": {},
     "output_type": "display_data"
    },
    {
     "data": {
      "text/plain": [
       "'Scraping Data from /horse-racing/result/stratford-on-avon/2022-04-10/1455/48/3...'"
      ]
     },
     "metadata": {},
     "output_type": "display_data"
    },
    {
     "data": {
      "text/plain": [
       "'Complete Scraping Data from /horse-racing/result/stratford-on-avon/2022-04-10/1455/48/3.'"
      ]
     },
     "metadata": {},
     "output_type": "display_data"
    },
    {
     "data": {
      "text/plain": [
       "'Scraping Data from /horse-racing/result/stratford-on-avon/2022-04-10/1530/48/4...'"
      ]
     },
     "metadata": {},
     "output_type": "display_data"
    },
    {
     "data": {
      "text/plain": [
       "'Complete Scraping Data from /horse-racing/result/stratford-on-avon/2022-04-10/1530/48/4.'"
      ]
     },
     "metadata": {},
     "output_type": "display_data"
    },
    {
     "data": {
      "text/plain": [
       "'Scraping Data from /horse-racing/result/stratford-on-avon/2022-04-10/1605/48/5...'"
      ]
     },
     "metadata": {},
     "output_type": "display_data"
    },
    {
     "data": {
      "text/plain": [
       "'Complete Scraping Data from /horse-racing/result/stratford-on-avon/2022-04-10/1605/48/5.'"
      ]
     },
     "metadata": {},
     "output_type": "display_data"
    },
    {
     "data": {
      "text/plain": [
       "'Scraping Data from /horse-racing/result/stratford-on-avon/2022-04-10/1640/48/6...'"
      ]
     },
     "metadata": {},
     "output_type": "display_data"
    },
    {
     "data": {
      "text/plain": [
       "'Complete Scraping Data from /horse-racing/result/stratford-on-avon/2022-04-10/1640/48/6.'"
      ]
     },
     "metadata": {},
     "output_type": "display_data"
    },
    {
     "data": {
      "text/plain": [
       "'Scraping Data from /horse-racing/result/stratford-on-avon/2022-04-10/1710/48/7...'"
      ]
     },
     "metadata": {},
     "output_type": "display_data"
    },
    {
     "data": {
      "text/plain": [
       "'Complete Scraping Data from /horse-racing/result/stratford-on-avon/2022-04-10/1710/48/7.'"
      ]
     },
     "metadata": {},
     "output_type": "display_data"
    },
    {
     "data": {
      "text/plain": [
       "'Scraping Data from /horse-racing/result/wincanton/2022-04-10/1300/56/1...'"
      ]
     },
     "metadata": {},
     "output_type": "display_data"
    },
    {
     "data": {
      "text/plain": [
       "'Complete Scraping Data from /horse-racing/result/wincanton/2022-04-10/1300/56/1.'"
      ]
     },
     "metadata": {},
     "output_type": "display_data"
    },
    {
     "data": {
      "text/plain": [
       "'Scraping Data from /horse-racing/result/wincanton/2022-04-10/1330/56/2...'"
      ]
     },
     "metadata": {},
     "output_type": "display_data"
    },
    {
     "data": {
      "text/plain": [
       "'Complete Scraping Data from /horse-racing/result/wincanton/2022-04-10/1330/56/2.'"
      ]
     },
     "metadata": {},
     "output_type": "display_data"
    },
    {
     "data": {
      "text/plain": [
       "'Scraping Data from /horse-racing/result/wincanton/2022-04-10/1405/56/3...'"
      ]
     },
     "metadata": {},
     "output_type": "display_data"
    },
    {
     "data": {
      "text/plain": [
       "'Complete Scraping Data from /horse-racing/result/wincanton/2022-04-10/1405/56/3.'"
      ]
     },
     "metadata": {},
     "output_type": "display_data"
    },
    {
     "data": {
      "text/plain": [
       "'Scraping Data from /horse-racing/result/wincanton/2022-04-10/1440/56/4...'"
      ]
     },
     "metadata": {},
     "output_type": "display_data"
    },
    {
     "data": {
      "text/plain": [
       "'Complete Scraping Data from /horse-racing/result/wincanton/2022-04-10/1440/56/4.'"
      ]
     },
     "metadata": {},
     "output_type": "display_data"
    },
    {
     "data": {
      "text/plain": [
       "'Scraping Data from /horse-racing/result/wincanton/2022-04-10/1515/56/5...'"
      ]
     },
     "metadata": {},
     "output_type": "display_data"
    },
    {
     "data": {
      "text/plain": [
       "'Complete Scraping Data from /horse-racing/result/wincanton/2022-04-10/1515/56/5.'"
      ]
     },
     "metadata": {},
     "output_type": "display_data"
    },
    {
     "data": {
      "text/plain": [
       "'Scraping Data from /horse-racing/result/wincanton/2022-04-10/1550/56/6...'"
      ]
     },
     "metadata": {},
     "output_type": "display_data"
    },
    {
     "data": {
      "text/plain": [
       "'Complete Scraping Data from /horse-racing/result/wincanton/2022-04-10/1550/56/6.'"
      ]
     },
     "metadata": {},
     "output_type": "display_data"
    },
    {
     "data": {
      "text/plain": [
       "'Scraping Data from /horse-racing/result/curragh/2022-04-10/1320/204/1...'"
      ]
     },
     "metadata": {},
     "output_type": "display_data"
    },
    {
     "data": {
      "text/plain": [
       "'Complete Scraping Data from /horse-racing/result/curragh/2022-04-10/1320/204/1.'"
      ]
     },
     "metadata": {},
     "output_type": "display_data"
    },
    {
     "data": {
      "text/plain": [
       "'Scraping Data from /horse-racing/result/curragh/2022-04-10/1355/204/2...'"
      ]
     },
     "metadata": {},
     "output_type": "display_data"
    },
    {
     "data": {
      "text/plain": [
       "'Complete Scraping Data from /horse-racing/result/curragh/2022-04-10/1355/204/2.'"
      ]
     },
     "metadata": {},
     "output_type": "display_data"
    },
    {
     "data": {
      "text/plain": [
       "'Scraping Data from /horse-racing/result/curragh/2022-04-10/1430/204/3...'"
      ]
     },
     "metadata": {},
     "output_type": "display_data"
    },
    {
     "data": {
      "text/plain": [
       "'Complete Scraping Data from /horse-racing/result/curragh/2022-04-10/1430/204/3.'"
      ]
     },
     "metadata": {},
     "output_type": "display_data"
    },
    {
     "data": {
      "text/plain": [
       "'Scraping Data from /horse-racing/result/curragh/2022-04-10/1505/204/4...'"
      ]
     },
     "metadata": {},
     "output_type": "display_data"
    },
    {
     "data": {
      "text/plain": [
       "'Complete Scraping Data from /horse-racing/result/curragh/2022-04-10/1505/204/4.'"
      ]
     },
     "metadata": {},
     "output_type": "display_data"
    },
    {
     "data": {
      "text/plain": [
       "'Scraping Data from /horse-racing/result/curragh/2022-04-10/1540/204/5...'"
      ]
     },
     "metadata": {},
     "output_type": "display_data"
    },
    {
     "data": {
      "text/plain": [
       "'Complete Scraping Data from /horse-racing/result/curragh/2022-04-10/1540/204/5.'"
      ]
     },
     "metadata": {},
     "output_type": "display_data"
    },
    {
     "data": {
      "text/plain": [
       "'Scraping Data from /horse-racing/result/curragh/2022-04-10/1612/204/6...'"
      ]
     },
     "metadata": {},
     "output_type": "display_data"
    },
    {
     "data": {
      "text/plain": [
       "'Complete Scraping Data from /horse-racing/result/curragh/2022-04-10/1612/204/6.'"
      ]
     },
     "metadata": {},
     "output_type": "display_data"
    },
    {
     "data": {
      "text/plain": [
       "'Scraping Data from /horse-racing/result/curragh/2022-04-10/1645/204/7...'"
      ]
     },
     "metadata": {},
     "output_type": "display_data"
    },
    {
     "data": {
      "text/plain": [
       "'Complete Scraping Data from /horse-racing/result/curragh/2022-04-10/1645/204/7.'"
      ]
     },
     "metadata": {},
     "output_type": "display_data"
    },
    {
     "data": {
      "text/plain": [
       "'Scraping Data from /horse-racing/result/curragh/2022-04-10/1720/204/8...'"
      ]
     },
     "metadata": {},
     "output_type": "display_data"
    },
    {
     "data": {
      "text/plain": [
       "'Complete Scraping Data from /horse-racing/result/curragh/2022-04-10/1720/204/8.'"
      ]
     },
     "metadata": {},
     "output_type": "display_data"
    },
    {
     "data": {
      "text/plain": [
       "'Scraping Data from /horse-racing/result/tramore/2022-04-10/1415/228/1...'"
      ]
     },
     "metadata": {},
     "output_type": "display_data"
    },
    {
     "data": {
      "text/plain": [
       "'Complete Scraping Data from /horse-racing/result/tramore/2022-04-10/1415/228/1.'"
      ]
     },
     "metadata": {},
     "output_type": "display_data"
    },
    {
     "data": {
      "text/plain": [
       "'Scraping Data from /horse-racing/result/tramore/2022-04-10/1447/228/2...'"
      ]
     },
     "metadata": {},
     "output_type": "display_data"
    },
    {
     "data": {
      "text/plain": [
       "'Complete Scraping Data from /horse-racing/result/tramore/2022-04-10/1447/228/2.'"
      ]
     },
     "metadata": {},
     "output_type": "display_data"
    },
    {
     "data": {
      "text/plain": [
       "'Scraping Data from /horse-racing/result/tramore/2022-04-10/1522/228/3...'"
      ]
     },
     "metadata": {},
     "output_type": "display_data"
    },
    {
     "data": {
      "text/plain": [
       "'Complete Scraping Data from /horse-racing/result/tramore/2022-04-10/1522/228/3.'"
      ]
     },
     "metadata": {},
     "output_type": "display_data"
    },
    {
     "data": {
      "text/plain": [
       "'Scraping Data from /horse-racing/result/tramore/2022-04-10/1557/228/4...'"
      ]
     },
     "metadata": {},
     "output_type": "display_data"
    },
    {
     "data": {
      "text/plain": [
       "'Complete Scraping Data from /horse-racing/result/tramore/2022-04-10/1557/228/4.'"
      ]
     },
     "metadata": {},
     "output_type": "display_data"
    },
    {
     "data": {
      "text/plain": [
       "'Scraping Data from /horse-racing/result/tramore/2022-04-10/1630/228/5...'"
      ]
     },
     "metadata": {},
     "output_type": "display_data"
    },
    {
     "data": {
      "text/plain": [
       "'Complete Scraping Data from /horse-racing/result/tramore/2022-04-10/1630/228/5.'"
      ]
     },
     "metadata": {},
     "output_type": "display_data"
    },
    {
     "data": {
      "text/plain": [
       "'Scraping Data from /horse-racing/result/tramore/2022-04-10/1700/228/6...'"
      ]
     },
     "metadata": {},
     "output_type": "display_data"
    },
    {
     "data": {
      "text/plain": [
       "'Complete Scraping Data from /horse-racing/result/tramore/2022-04-10/1700/228/6.'"
      ]
     },
     "metadata": {},
     "output_type": "display_data"
    },
    {
     "data": {
      "text/plain": [
       "'Scraping Data from /horse-racing/result/tramore/2022-04-10/1730/228/7...'"
      ]
     },
     "metadata": {},
     "output_type": "display_data"
    },
    {
     "data": {
      "text/plain": [
       "'Complete Scraping Data from /horse-racing/result/tramore/2022-04-10/1730/228/7.'"
      ]
     },
     "metadata": {},
     "output_type": "display_data"
    },
    {
     "data": {
      "text/plain": [
       "'All Race Result Scraped.'"
      ]
     },
     "metadata": {},
     "output_type": "display_data"
    }
   ],
   "source": [
    "raceList={\n",
    "    \"haydock-park\":\"Haydock\",\n",
    "    \"lingfield-park\":\"Lingfield\",\n",
    "    \"chelmsford-city\":\"Chelmsford City\",\n",
    "    \"kempton-park\":\"Kempton\",\n",
    "    \"ffos-las\":\"Ffos Las\",\n",
    "    \"catterick-bridge\":\"Catterick\",\n",
    "    \"sandown-park\":\"Sandown\",\n",
    "    \"fontwell-park\":\"Fontwell\",\n",
    "    \"market-rasen\":\"Market Rasen\",\n",
    "    \"stratford-on-avon\":\"Stratford\",\n",
    "    \"epsom-downs\":\"Epsom\",\n",
    "    \"hamilton-park\":\"Hamilton\",\n",
    "#    \"newmarket\":\"Newmarket (July)\",\n",
    "    \"gowran-park\":\"Gowran Park\",\n",
    "    \"newton-abbot\":\"Newton Abbot\",\n",
    "    }\n",
    "    \n",
    "display(\"Getting Race Result Data from Urls.\")\n",
    "allDataFrame = pd.DataFrame()\n",
    "for raceUrl in raceUrls:\n",
    "    url = 'https://www.timeform.com' + raceUrl\n",
    "    display(\"Scraping Data from \" + raceUrl + \"...\")\n",
    "    x = url.split('/')\n",
    "    location = x[5]\n",
    "    if x[5] in raceList:\n",
    "        location = raceList[x[5]]\n",
    "    date = x[6][8:10] + '/' + x[6][5:7] + '/' + x[6][0:4]\n",
    "    #print(date)\n",
    "    dtime = x[7][:2] + ':' + x[7][2:]\n",
    "    \n",
    "    html = browser.open(url).read()\n",
    "    soup = BeautifulSoup(html, \"lxml\")\n",
    "    \n",
    "    posArr = []\n",
    "    positions = soup.find_all('span', attrs={'title': 'Finishing Position'})\n",
    "    for position in positions:\n",
    "        posArr.append(position.text)\n",
    "\n",
    "    horseArr = []\n",
    "    horses = soup.find_all('a', class_='rp-horse')\n",
    "    for horse in horses:\n",
    "        horseName = horse.text\n",
    "        dotPos = horseName.find('.')\n",
    "        horseName = horseName[dotPos+2:]\n",
    "        bracketPos = horseName.find('(')\n",
    "        if bracketPos > 0:\n",
    "            horseName = horseName[:bracketPos-1]\n",
    "        horseArr.append(horseName)\n",
    "\n",
    "    winSpArr = []\n",
    "    winSPs = soup.find_all('td', title='Betfair Win SP')\n",
    "    for winSP in winSPs:\n",
    "        if winSP.text != 'BSP':\n",
    "            if len(winSP.text) > 1:\n",
    "                winSpArr.append(float(winSP.text))\n",
    "            else:\n",
    "                winSpArr.append('0')\n",
    "\n",
    "    plcSpArr=[]\n",
    "    plcSPs = soup.find_all('td', title='Betfair Place SP')\n",
    "    for plcSP in plcSPs:\n",
    "        if plcSP.text != '(Place)':\n",
    "            bracketLoc1 = plcSP.text.find('(')\n",
    "            bracketLoc2 = plcSP.text.find(')')\n",
    "            plcOdds = plcSP.text[bracketLoc1+1:bracketLoc2]\n",
    "            if plcOdds:\n",
    "                plcSpArr.append(plcOdds)\n",
    "                plcSpArr.append(plcOdds)\n",
    "            else:\n",
    "                plcSpArr.append('0')\n",
    "                plcSpArr.append('0')\n",
    "\n",
    "    oneRaceData = pd.DataFrame(horseArr)\n",
    "    oneRaceData = pd.DataFrame()\n",
    "    oneRaceData['Horse'] = horseArr\n",
    "    oneRaceData['Position'] = posArr\n",
    "    oneRaceData['Betfair Win SP'] = winSpArr\n",
    "    oneRaceData['Betfair Placed'] = ''\n",
    "    oneRaceData['Betfair Place SP'] = plcSpArr\n",
    "    \n",
    "    oneRaceData = oneRaceData.drop_duplicates()\n",
    "    oneRaceData['Date'] = date\n",
    "    oneRaceData['Date'].values[:] = date\n",
    "    oneRaceData['Meeting'] = location\n",
    "    oneRaceData['Meeting'].values[:] = location\n",
    "    oneRaceData['Time24Hour'] = dtime\n",
    "    oneRaceData['Time24Hour'].values[:] = dtime\n",
    "\n",
    "    oneRaceData = oneRaceData.set_index(['Date','Time24Hour', 'Meeting', 'Horse'])\n",
    "    if raceUrl == raceUrls[0]:\n",
    "        allDataFrame = oneRaceData\n",
    "    else:\n",
    "        allDataFrame = allDataFrame.append(oneRaceData, ignore_index=False)\n",
    "    display(\"Complete Scraping Data from \" + raceUrl + \".\")\n",
    "display(\"All Race Result Scraped.\")"
   ]
  },
  {
   "cell_type": "markdown",
   "metadata": {},
   "source": [
    "### Save Scrape results to csv"
   ]
  },
  {
   "cell_type": "code",
   "execution_count": 5,
   "metadata": {
    "ExecuteTime": {
     "end_time": "2021-05-08T06:31:14.756330Z",
     "start_time": "2021-05-08T06:15:23.146602Z"
    }
   },
   "outputs": [],
   "source": [
    "filename = 'ScrapData.csv'\n",
    "allDataFrame.to_csv(filename)"
   ]
  },
  {
   "cell_type": "markdown",
   "metadata": {},
   "source": [
    "# Merge Data"
   ]
  },
  {
   "cell_type": "code",
   "execution_count": 6,
   "metadata": {
    "ExecuteTime": {
     "end_time": "2021-05-08T06:31:14.847389Z",
     "start_time": "2021-05-08T06:31:14.791628Z"
    }
   },
   "outputs": [
    {
     "ename": "NameError",
     "evalue": "name 'os' is not defined",
     "output_type": "error",
     "traceback": [
      "\u001b[1;31m---------------------------------------------------------------------------\u001b[0m",
      "\u001b[1;31mNameError\u001b[0m                                 Traceback (most recent call last)",
      "\u001b[1;32m~\\AppData\\Local\\Temp/ipykernel_7400/2101695208.py\u001b[0m in \u001b[0;36m<module>\u001b[1;34m\u001b[0m\n\u001b[0;32m      6\u001b[0m \u001b[1;33m\u001b[0m\u001b[0m\n\u001b[0;32m      7\u001b[0m \u001b[0mfileName\u001b[0m \u001b[1;33m=\u001b[0m \u001b[0mdateStr\u001b[0m \u001b[1;33m+\u001b[0m \u001b[1;34m' ALL.csv'\u001b[0m\u001b[1;33m\u001b[0m\u001b[1;33m\u001b[0m\u001b[0m\n\u001b[1;32m----> 8\u001b[1;33m \u001b[0mcsvPath\u001b[0m \u001b[1;33m=\u001b[0m \u001b[0mos\u001b[0m\u001b[1;33m.\u001b[0m\u001b[0mpath\u001b[0m\u001b[1;33m.\u001b[0m\u001b[0mjoin\u001b[0m\u001b[1;33m(\u001b[0m\u001b[0mfileName\u001b[0m\u001b[1;33m)\u001b[0m\u001b[1;33m\u001b[0m\u001b[1;33m\u001b[0m\u001b[0m\n\u001b[0m\u001b[0;32m      9\u001b[0m \u001b[1;33m\u001b[0m\u001b[0m\n\u001b[0;32m     10\u001b[0m \u001b[0mukhrData\u001b[0m \u001b[1;33m=\u001b[0m \u001b[0mpd\u001b[0m\u001b[1;33m.\u001b[0m\u001b[0mread_csv\u001b[0m\u001b[1;33m(\u001b[0m\u001b[0mcsvPath\u001b[0m\u001b[1;33m)\u001b[0m\u001b[1;33m\u001b[0m\u001b[1;33m\u001b[0m\u001b[0m\n",
      "\u001b[1;31mNameError\u001b[0m: name 'os' is not defined"
     ]
    }
   ],
   "source": [
    "dateSumStr = baseDateStr.replace('-', '')\n",
    "resultDataGlobal = pd.read_csv('ScrapData.csv').drop(columns=['Date'])\n",
    "resultDataGlobal_ = resultDataGlobal.copy(deep=True)\n",
    "dateStr = dateSumStr.replace('/', '')\n",
    "pathName = r\"../\"\n",
    "\n",
    "fileName = dateStr + ' ALL.csv'\n",
    "csvPath = os.path.join(fileName)\n",
    "\n",
    "ukhrData = pd.read_csv(csvPath)\n",
    "ukhrData = ukhrData.drop(columns=['WRITE_BETFAIR_PLACED','WRITE_IN_RESULT_HERE','WRITE_BETFAIR_SP_HERE','WRITE_BETFAIR_PLACE_SP_HERE'])\n",
    "ukhrData = ukhrData.set_index(['Date', 'Time24Hour', 'Meeting', 'Horse'])\n",
    "filename = 'LatestResults_drop.csv'\n",
    "ukhrData.to_csv(filename)\n",
    "\n",
    "resultDataGlobal = resultDataGlobal_\n",
    "resultDataGlobal = resultDataGlobal.reset_index()\n",
    "resultDataGlobal['Horse'] = resultDataGlobal['Horse'].str.lower()\n",
    "resultDataGlobal['Meeting'] = resultDataGlobal['Meeting'].str.lower()\n",
    "resultDataGlobal['Horse'] = resultDataGlobal['Horse'].str.replace(\"`\", \"'\")\n",
    "\n",
    "ukhrData = ukhrData.reset_index()\n",
    "\n",
    "horseList=[]\n",
    "meetingList=[]\n",
    "horseList=list(ukhrData['Horse'])\n",
    "meetingList = list(ukhrData['Meeting'])\n",
    "horseList_=horseList#.copy(deep=True)\n",
    "meetingList_=meetingList\n",
    "\n",
    "ukhrData['Horse'] = ukhrData['Horse'].str.lower()\n",
    "ukhrData['Meeting'] = ukhrData['Meeting'].str.lower()\n",
    "ukhrData['Horse'] = ukhrData['Horse'].str.replace(\"`\", \"'\")\n",
    "\n",
    "mergedDf = ukhrData.merge(resultDataGlobal, on=[ 'Time24Hour', 'Meeting', 'Horse'], how='left')\n",
    "mergedDf.rename(columns={'date': 'Date'})\n",
    "mergedDf.rename(columns={'meeting': 'Meeting'})\n",
    "mergedDf.rename(columns={'horse': 'Horse'})\n",
    "mergedDf.rename(columns={'time24hour': 'Time24Hour'})\n",
    "nRows = mergedDf.shape[0]\n",
    "for row in range(0, nRows-1):\n",
    "    position = mergedDf.loc[row].at['Position']\n",
    "    nRunners = mergedDf.loc[row].at['Runners']\n",
    "    Handicap = mergedDf.loc[row].at['Handicap']\n",
    "    mergedDf.at[row, 'Betfair Placed'] = ''\n",
    "    if str(position).isnumeric():  # if position is a number\n",
    "        if nRunners <= 7 and int(position) <= 2:\n",
    "            mergedDf.at[row, 'Betfair Placed'] = '1'\n",
    "        if nRunners >= 8 and int(position) <= 3:\n",
    "            mergedDf.at[row, 'Betfair Placed'] = '1'\n",
    "        if (Handicap == 'Handicap' or Handicap == 'Nursery') and nRunners >= 16 and int(position) <= 4:\n",
    "            mergedDf.at[row, 'Betfair Placed'] = '1'\n",
    "\n",
    "mergedDf = mergedDf.groupby(['Date','Time24Hour', 'Meeting', 'Horse'], as_index=False, sort=False).first()\n",
    "mergedDf['Horse']=horseList_\n",
    "mergedDf['Meeting']=meetingList_\n",
    "mergedDf = mergedDf.reset_index()\n",
    "mergedDf = mergedDf[list(mergedDf.columns)[1:]]\n",
    "mergedDf = mergedDf.set_index(['Date'])\n",
    "\n",
    "if 'index' in mergedDf.columns:\n",
    "    mergedDf.drop('index', inplace=True, axis=1)\n",
    "\n",
    "filename = dateStr + ' Data.csv'\n",
    "mergedDf.to_csv(filename)\n",
    "\n",
    "toc = time.perf_counter()\n",
    "print(f\"Total has {toc - tic:0.4f} seconds.\")"
   ]
  },
  {
   "cell_type": "code",
   "execution_count": null,
   "metadata": {},
   "outputs": [],
   "source": []
  }
 ],
 "metadata": {
  "kernelspec": {
   "display_name": "Python 3 (ipykernel)",
   "language": "python",
   "name": "python3"
  },
  "language_info": {
   "codemirror_mode": {
    "name": "ipython",
    "version": 3
   },
   "file_extension": ".py",
   "mimetype": "text/x-python",
   "name": "python",
   "nbconvert_exporter": "python",
   "pygments_lexer": "ipython3",
   "version": "3.9.7"
  },
  "varInspector": {
   "cols": {
    "lenName": 16,
    "lenType": 16,
    "lenVar": 40
   },
   "kernels_config": {
    "python": {
     "delete_cmd_postfix": "",
     "delete_cmd_prefix": "del ",
     "library": "var_list.py",
     "varRefreshCmd": "print(var_dic_list())"
    },
    "r": {
     "delete_cmd_postfix": ") ",
     "delete_cmd_prefix": "rm(",
     "library": "var_list.r",
     "varRefreshCmd": "cat(var_dic_list()) "
    }
   },
   "types_to_exclude": [
    "module",
    "function",
    "builtin_function_or_method",
    "instance",
    "_Feature"
   ],
   "window_display": false
  }
 },
 "nbformat": 4,
 "nbformat_minor": 4
}
